{
  "nbformat": 4,
  "nbformat_minor": 0,
  "metadata": {
    "colab": {
      "name": "Postman Problem+Local Search.ipynb",
      "provenance": [],
      "collapsed_sections": []
    },
    "kernelspec": {
      "name": "python3",
      "display_name": "Python 3"
    },
    "language_info": {
      "name": "python"
    }
  },
  "cells": [
    {
      "cell_type": "code",
      "execution_count": null,
      "metadata": {
        "id": "yCBVUj1yy5_2"
      },
      "outputs": [],
      "source": [
        "import numpy as np\n",
        "import time\n",
        "import copy\n",
        "\n",
        "K=50 #N=8, K=5\n",
        "N=100"
      ]
    },
    {
      "cell_type": "markdown",
      "source": [
        "# Data test\n"
      ],
      "metadata": {
        "id": "Q4l-WNRszRXF"
      }
    },
    {
      "cell_type": "code",
      "source": [
        "def generate_test(K,N):\n",
        "    f = open('8nodes(5)', 'w')\n",
        "    f.write(str(N+1)+'\\n')\n",
        "    f.write('0 0\\n')\n",
        "\n",
        "    for i in range(N):\n",
        "        x = np.random.randint(-100, 100)\n",
        "        y = np.random.randint(-100, 100)\n",
        "        f.write('{} {}\\n'.format(x, y))\n",
        "\n",
        "    f.close()\n",
        "\n",
        "generate_test(K,N)"
      ],
      "metadata": {
        "id": "UyY5uh3XzBTx"
      },
      "execution_count": null,
      "outputs": []
    },
    {
      "cell_type": "code",
      "source": [
        "def load_data(path = \"8nodes(5)\"):\n",
        "    with open(path, 'r') as f:\n",
        "        inputData = f.readlines()\n",
        "    \n",
        "    N = int(inputData[0].strip())\n",
        "    node_list=[]\n",
        "    for node in inputData[1:]:\n",
        "        #del '\\n' \n",
        "        node = node.strip()\n",
        "        #split by ' '\n",
        "        node = node.split(' ')\n",
        "        node_list.append((int(node[0]), int(node[1])))\n",
        "\n",
        "    return node_list, N"
      ],
      "metadata": {
        "id": "jGAf47axzIh2"
      },
      "execution_count": null,
      "outputs": []
    },
    {
      "cell_type": "code",
      "source": [
        "node_list, num_nodes = load_data()"
      ],
      "metadata": {
        "id": "3Q-AvOofzLYd"
      },
      "execution_count": null,
      "outputs": []
    },
    {
      "cell_type": "code",
      "source": [
        "def DistanceMatrix(cities, n):\n",
        "    dis_matrix = np.zeros([n,n])\n",
        "    min_dis = np.full((n, 2), np.inf)\n",
        "    adv0 = []\n",
        "    for i in range(n):\n",
        "        for j in range(i+1, n):\n",
        "            a = np.array(cities[i])\n",
        "            b = np.array(cities[j])\n",
        "            c = a - b\n",
        "            dis_matrix[i, j] = np.sqrt(np.sum(c*c))\n",
        "            if dis_matrix[i, j] < min_dis[i, 1]:\n",
        "              min_dis[i, 0] = j\n",
        "              min_dis[i, 1] = dis_matrix[i, j]\n",
        "            dis_matrix[j, i] = dis_matrix[i, j]\n",
        "            if dis_matrix[j, i] < min_dis[j, 1] and i != 0:\n",
        "              min_dis[j, 0] = i\n",
        "              min_dis[j, 1] = dis_matrix[i, j]\n",
        "            if i == 0: adv0.append((dis_matrix[i, j], j))\n",
        "    \n",
        "    adv0.sort(key=lambda tup: tup[0], reverse = False)\n",
        "\n",
        "    return np.around(dis_matrix, 2), np.around(min_dis, 2), adv0\n",
        "\n",
        "dis_matrix, min_dis, adv0 = DistanceMatrix(node_list, num_nodes)"
      ],
      "metadata": {
        "id": "2Qge8q7Qzdq8"
      },
      "execution_count": null,
      "outputs": []
    },
    {
      "cell_type": "code",
      "source": [
        "import matplotlib.pyplot as plt\n",
        "\n",
        "points = np.array(node_list)\n",
        "\n",
        "plt.scatter(points[:, 0], points[:, 1])"
      ],
      "metadata": {
        "id": "elEHeabKzfll",
        "colab": {
          "base_uri": "https://localhost:8080/",
          "height": 282
        },
        "outputId": "3dd1b0c0-4fee-404f-f063-087c8d29bd04"
      },
      "execution_count": null,
      "outputs": [
        {
          "output_type": "execute_result",
          "data": {
            "text/plain": [
              "<matplotlib.collections.PathCollection at 0x7fa7932f8d50>"
            ]
          },
          "metadata": {},
          "execution_count": 25
        },
        {
          "output_type": "display_data",
          "data": {
            "text/plain": [
              "<Figure size 432x288 with 1 Axes>"
            ],
            "image/png": "[encoded data removed]"
          },
          "metadata": {
            "needs_background": "light"
          }
        }
      ]
    },
    {
      "cell_type": "markdown",
      "source": [
        "# Algorithm Local Search"
      ],
      "metadata": {
        "id": "f269XPAd8fQp"
      }
    },
    {
      "cell_type": "code",
      "source": [
        "# randomly init\n",
        "def init(K,N):\n",
        "  X = [[0] for i in range(K)]\n",
        "  for i in range(N):\n",
        "    a = np.random.random_integers(0,K-1)\n",
        "    X[a].append(i+1)\n",
        "  return X\n",
        "\n",
        "#tim thu tu di cua cac buu ta\n",
        "def TSP():\n",
        "  return\n",
        "\n",
        "#calculate dis\n",
        "def calculate_dis(X, dis_matrix, K):\n",
        "  dis = np.zeros((K,1))\n",
        "  for i in range(K):\n",
        "    len_Xi = len(X[i]) - 1\n",
        "    for j in range(len_Xi):\n",
        "      a = int(X[i][j])\n",
        "      b = int(X[i][j+1])\n",
        "      dis[i] = dis[i] + dis_matrix[a][b]\n",
        "    c = int(X[i][len_Xi])\n",
        "    dis[i] = dis[i] + dis_matrix[c][0]\n",
        "  return dis\n",
        "\n",
        "def update_dis(dis, X, a, b):   #tinh lai dis sau khi chuyen tu max -> min\n",
        "  dis[a] = 0\n",
        "  dis[b] = 0\n",
        "  for i in range(len(X[a])-1):\n",
        "    dis[a] = dis[a] + dis_matrix[int(X[a][i])][int(X[a][i+1])]\n",
        "  dis[a] = dis[a] + dis_matrix[X[a][len(X[a])-1]][0]\n",
        "  for i in range(len(X[b])-1):\n",
        "    dis[b] = dis[b] + dis_matrix[int(X[b][i])][int(X[b][i+1])]\n",
        "  dis[b] = dis[b] + dis_matrix[X[b][len(X[b])-1]][0]\n",
        "  return dis"
      ],
      "metadata": {
        "id": "YKv7vuyTXwu9"
      },
      "execution_count": null,
      "outputs": []
    },
    {
      "cell_type": "code",
      "source": [
        "X = init(K,N)\n",
        "dis = calculate_dis(X, dis_matrix, K)"
      ],
      "metadata": {
        "colab": {
          "base_uri": "https://localhost:8080/"
        },
        "id": "7Qx_Iye5LEQy",
        "outputId": "b4ceee19-0e91-4570-b932-b65ba67dd28d"
      },
      "execution_count": null,
      "outputs": [
        {
          "output_type": "stream",
          "name": "stderr",
          "text": [
            "/usr/local/lib/python3.7/dist-packages/ipykernel_launcher.py:5: DeprecationWarning: This function is deprecated. Please call randint(0, 49 + 1) instead\n",
            "  \"\"\"\n"
          ]
        }
      ]
    },
    {
      "cell_type": "code",
      "source": [
        "def TRY_first_improvement(current_optimum, X, index_max, index_min):\n",
        "  dis = calculate_dis(X, dis_matrix, K)\n",
        "  for i in range(len(X[index_max])-1):\n",
        "    Y = copy.deepcopy(X)\n",
        "    tmp = X[index_max][i+1]\n",
        "    Y[index_max].remove(tmp)\n",
        "    Y[index_min].append(tmp)\n",
        "    dis = update_dis(dis, Y, index_max, index_min)\n",
        "    if(dis.max() < current_optimum):\n",
        "      return (Y, dis, True)\n",
        "  return (X, dis, False)\n",
        "  #move each elements from dis[max] -> dis[min]\n",
        "    #calculate dis    => compare current optimum\n",
        "  # return X,true\n",
        "  \n",
        "def TRY_best_improvement(current_optimum, X, index_max, index_min):\n",
        "  index_candidate = 0\n",
        "  dis = calculate_dis(X, dis_matrix, K)\n",
        "  for i in range(len(X[index_max])-1):\n",
        "    Y = copy.deepcopy(X)\n",
        "    tmp = X[index_max][i+1]\n",
        "    Y[index_max].remove(tmp)\n",
        "    Y[index_min].append(tmp)\n",
        "    dis = update_dis(dis, Y, index_max, index_min)\n",
        "    if(dis.max() < current_optimum):\n",
        "      current_optimum = dis.max()\n",
        "      index_candidate = i+1\n",
        "  if(index_candidate != 0):\n",
        "    Y = copy.deepcopy(X)\n",
        "    tmp = X[index_max][index_candidate]\n",
        "    Y[index_max].remove(tmp)\n",
        "    Y[index_min].append(tmp)\n",
        "    dis = update_dis(dis, Y, index_max, index_min)\n",
        "    return (Y, dis, True)\n",
        "  else:\n",
        "    return (X, dis, False)\n",
        "\n",
        "\n",
        "def TRY_(X, dis):\n",
        "  index_max = np.argmax(dis)\n",
        "  index_min = np.argmin(dis)\n",
        "  #Choose (best candidate, first candidate, )\n",
        "  #X, dis, tmp = TRY_first_improvement(dis.max(), X, index_max, index_min)\n",
        "  X, dis, tmp = TRY_best_improvement(dis.max(), X, index_max, index_min)\n",
        "  if(tmp):\n",
        "     return TRY_(X, dis)\n",
        "  else:\n",
        "     return (X, dis)\n",
        "\n"
      ],
      "metadata": {
        "id": "6NPABJF35aG-"
      },
      "execution_count": null,
      "outputs": []
    },
    {
      "cell_type": "code",
      "source": [
        "X,dis = TRY_(X, dis)\n",
        "print(X)\n",
        "print(dis)"
      ],
      "metadata": {
        "colab": {
          "base_uri": "https://localhost:8080/"
        },
        "id": "XLLJCB0Fm9p8",
        "outputId": "5db032d6-9142-444d-ec6b-c953295efd39"
      },
      "execution_count": null,
      "outputs": [
        {
          "output_type": "stream",
          "name": "stdout",
          "text": [
            "[[0, 22, 37, 57], [0, 8, 39], [0, 3], [0, 9, 32], [0, 20, 79], [0, 26], [0, 14, 87, 99], [0, 56, 66], [0, 12, 23, 31], [0, 30, 78, 98], [0, 88, 97], [0, 76], [0, 17, 18, 86], [0, 33], [0, 35, 92], [0, 54, 69, 34], [0, 47, 61, 64, 67], [0, 82, 93], [0, 49, 55, 60], [0, 25, 62], [0, 75, 6], [0, 28], [0, 21], [0, 50, 63], [0, 24, 5], [0, 13, 44], [0, 43, 53], [0, 70], [0, 16, 36, 94], [0, 10], [0, 4, 81], [0, 83, 90], [0, 59, 74], [0, 51], [0, 15, 40, 45], [0, 11], [0, 48, 85], [0, 89, 100], [0, 73], [0, 77, 7], [0, 71], [0, 84, 58], [0, 2, 29], [0, 91], [0, 41, 95], [0, 27, 38, 72], [0, 1, 42], [0, 19, 65, 68], [0, 46, 52], [0, 80, 96]]\n",
            "[[208.02]\n",
            " [241.29]\n",
            " [231.04]\n",
            " [187.88]\n",
            " [211.35]\n",
            " [205.58]\n",
            " [319.12]\n",
            " [293.29]\n",
            " [183.6 ]\n",
            " [198.19]\n",
            " [208.8 ]\n",
            " [216.34]\n",
            " [330.47]\n",
            " [210.  ]\n",
            " [246.92]\n",
            " [259.63]\n",
            " [290.02]\n",
            " [232.48]\n",
            " [262.84]\n",
            " [310.17]\n",
            " [285.09]\n",
            " [222.42]\n",
            " [357.54]\n",
            " [272.02]\n",
            " [310.5 ]\n",
            " [195.54]\n",
            " [277.36]\n",
            " [216.  ]\n",
            " [332.37]\n",
            " [219.98]\n",
            " [198.06]\n",
            " [232.87]\n",
            " [266.02]\n",
            " [194.62]\n",
            " [341.59]\n",
            " [186.86]\n",
            " [298.04]\n",
            " [313.6 ]\n",
            " [183.62]\n",
            " [262.73]\n",
            " [205.72]\n",
            " [251.27]\n",
            " [190.94]\n",
            " [186.02]\n",
            " [244.45]\n",
            " [259.46]\n",
            " [196.42]\n",
            " [256.06]\n",
            " [232.04]\n",
            " [222.41]]\n"
          ]
        }
      ]
    }
  ]
}